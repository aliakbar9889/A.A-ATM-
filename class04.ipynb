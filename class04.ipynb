{
  "nbformat": 4,
  "nbformat_minor": 0,
  "metadata": {
    "colab": {
      "provenance": [],
      "authorship_tag": "ABX9TyOUFrwrJje45mWiPxstIwLz",
      "include_colab_link": true
    },
    "kernelspec": {
      "name": "python3",
      "display_name": "Python 3"
    },
    "language_info": {
      "name": "python"
    }
  },
  "cells": [
    {
      "cell_type": "markdown",
      "metadata": {
        "id": "view-in-github",
        "colab_type": "text"
      },
      "source": [
        "<a href=\"https://colab.research.google.com/github/aliakbar9889/A.A-ATM-/blob/main/class04.ipynb\" target=\"_parent\"><img src=\"https://colab.research.google.com/assets/colab-badge.svg\" alt=\"Open In Colab\"/></a>"
      ]
    },
    {
      "cell_type": "code",
      "execution_count": 3,
      "metadata": {
        "colab": {
          "base_uri": "https://localhost:8080/"
        },
        "id": "tTU63i2mM1dA",
        "outputId": "0d93c317-6c99-4d84-cadc-3ab9235c967f"
      },
      "outputs": [
        {
          "output_type": "stream",
          "name": "stdout",
          "text": [
            "num>>> 10\n",
            "num>>> 9\n",
            "num>>> 8\n",
            "num>>> 7\n",
            "num>>> 6\n",
            "num>>> 5\n",
            "num>>> 4\n",
            "num>>> 3\n",
            "num>>> 2\n",
            "num>>> 1\n",
            "bus hogya bhai..!\n"
          ]
        }
      ],
      "source": [
        "# CountDown Timer EX:\n",
        "# Recursion Function:\n",
        "\n",
        "def count_down(num):\n",
        " if num <=0:\n",
        "  print(\"bus hogya bhai..!\")\n",
        "  return\n",
        " print(\"num>>>\",num)\n",
        " count_down(num - 1)\n",
        "\n",
        "count_down(10)\n"
      ]
    },
    {
      "cell_type": "code",
      "source": [
        "import os\n",
        "print (os.getcwd()) # check current working directory\n",
        "print (os.listdir()) # to check multiple file in working directory\n",
        "\n",
        "# os.mkdir(\"ramzan\") # to make directory\n",
        "# os.rename(\"ramzan\",\"eid\") # to change name of dir\n",
        "# os.rmdir(\"eid\") # to remove directory\n"
      ],
      "metadata": {
        "colab": {
          "base_uri": "https://localhost:8080/"
        },
        "id": "RqXCxA7_O61A",
        "outputId": "0d3f8f9c-0208-4046-9197-a0944aa1843d"
      },
      "execution_count": 16,
      "outputs": [
        {
          "output_type": "stream",
          "name": "stdout",
          "text": [
            "/content\n",
            "['.config', 'bari eid', 'sample_data']\n"
          ]
        }
      ]
    },
    {
      "cell_type": "code",
      "source": [
        "# file I/O:\n",
        "file=open(\"text.txt\",\"w\")\n",
        "file.write(\"ramzan mubarak\")\n",
        "file.write(\"\\n Eid mubarak\")\n",
        "file.close()"
      ],
      "metadata": {
        "id": "QGCeNQvMSwui"
      },
      "execution_count": 23,
      "outputs": []
    },
    {
      "cell_type": "code",
      "source": [
        "def append_to_file(text):\n",
        "    file = open(\"text.txt\", \"a\")  # Append mode ('a') se file open karna\n",
        "    file.write(text + \"\\n\")  # Naya text add karna\n",
        "    file.close()  # File ko close karna\n",
        "\n",
        "# Function call karke text add karein\n",
        "append_to_file(\"Ramzan Mubarak!\")\n",
        "append_to_file(\"Eid Mubarak!\")\n",
        "\n",
        "print(\"Text file me naya text add ho gaya!\")\n"
      ],
      "metadata": {
        "colab": {
          "base_uri": "https://localhost:8080/"
        },
        "id": "sDppor46Uh9W",
        "outputId": "8de554ca-6810-4ec3-8c8b-31399ad1049e"
      },
      "execution_count": 28,
      "outputs": [
        {
          "output_type": "stream",
          "name": "stdout",
          "text": [
            "Text file me naya text add ho gaya!\n"
          ]
        }
      ]
    },
    {
      "cell_type": "code",
      "source": [
        "# Original list\n",
        "number = [\"1\", \"2\", \"3\", \"4\", \"5\"]\n",
        "\n",
        "# Empty list to store squares\n",
        "sqr_list = []\n",
        "\n",
        "# Loop to iterate through the list\n",
        "for num in number:\n",
        "    num = int(num)  # Convert string to integer\n",
        "    print(\"num>>>\", num)  # Print current number\n",
        "    sqr_num = num * num  # Square the number\n",
        "    sqr_list.append(sqr_num)  # Append result to list\n",
        "\n",
        "# Print final squared list\n",
        "print(sqr_list)\n"
      ],
      "metadata": {
        "colab": {
          "base_uri": "https://localhost:8080/"
        },
        "id": "B1C_Gzi0WX-V",
        "outputId": "e22f5788-bee9-4fab-becb-0043907f5ea5"
      },
      "execution_count": 30,
      "outputs": [
        {
          "output_type": "stream",
          "name": "stdout",
          "text": [
            "num>>> 1\n",
            "num>>> 2\n",
            "num>>> 3\n",
            "num>>> 4\n",
            "num>>> 5\n",
            "[1, 4, 9, 16, 25]\n"
          ]
        }
      ]
    }
  ]
}